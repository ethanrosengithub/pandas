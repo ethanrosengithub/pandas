{
  "nbformat": 4,
  "nbformat_minor": 0,
  "metadata": {
    "colab": {
      "name": "BINOMIAL DISTRIBUTION",
      "provenance": [],
      "authorship_tag": "ABX9TyPqeSjlR+Z4GJbla6E2gjc9",
      "include_colab_link": true
    },
    "kernelspec": {
      "name": "python3",
      "display_name": "Python 3"
    }
  },
  "cells": [
    {
      "cell_type": "markdown",
      "metadata": {
        "id": "view-in-github",
        "colab_type": "text"
      },
      "source": [
        "<a href=\"https://colab.research.google.com/github/ethanrosengithub/pandas/blob/main/BINOMIAL_DISTRIBUTION.ipynb\" target=\"_parent\"><img src=\"https://colab.research.google.com/assets/colab-badge.svg\" alt=\"Open In Colab\"/></a>"
      ]
    },
    {
      "cell_type": "code",
      "metadata": {
        "id": "ekimg_GoNhUU"
      },
      "source": [
        "import numpy as np\n",
        "import pandas as pd\n",
        "import matplotlib.pyplot as plt\n",
        "\n",
        "import seaborn as sns\n",
        "import scipy\n",
        "from scipy.stats import binom"
      ],
      "execution_count": 1,
      "outputs": []
    },
    {
      "cell_type": "code",
      "metadata": {
        "id": "rhQsLCx4NqC5"
      },
      "source": [
        ""
      ],
      "execution_count": 284,
      "outputs": []
    },
    {
      "cell_type": "code",
      "metadata": {
        "id": "jVbKVC6qjLli"
      },
      "source": [
        ""
      ],
      "execution_count": 125,
      "outputs": []
    },
    {
      "cell_type": "markdown",
      "metadata": {
        "id": "LgwS8XWRdHh4"
      },
      "source": [
        "BINOMIAL DISTRIBUTION:"
      ]
    },
    {
      "cell_type": "markdown",
      "metadata": {
        "id": "h58Ho97-f7zs"
      },
      "source": [
        "MAKING THE BINOMIAL DISTRIBUTION PLOT:\n",
        "\n",
        "find the probability of a certain number of success in n tries\n",
        "\n",
        "\n",
        "binom.pmf( successes, tries, probability)  gives the prob of a certain number of successes\n",
        "\n",
        "np.random.binomial(tries, probability, trials) creates a simulation of the events "
      ]
    },
    {
      "cell_type": "code",
      "metadata": {
        "id": "lLm4OQCzjOXY",
        "outputId": "4c471a79-3cc3-4d88-812c-ce49e69cee9d",
        "colab": {
          "base_uri": "https://localhost:8080/",
          "height": 486
        }
      },
      "source": [
        "\n",
        "n=  10                                        #  number of tries\n",
        "\n",
        "p = .5                                        #prob of success , or getting heads\n",
        "\n",
        "successes=  list (range(n+1))                      # number of successes we want the probability for, ranges from 0 to the total number of tries \n",
        "\n",
        "dist=  binom.pmf( successes , n , p)               #gives the probability of success for each number of successes\n",
        "\n",
        "\n",
        "\n",
        "print('sum of probabilities= ' +  str(np.sum(dist))) \n",
        "values= list(enumerate(dist))\n",
        "\n",
        "display(\n",
        "    values,\n",
        "    plt.bar(successes, dist)\n",
        ")"
      ],
      "execution_count": 2,
      "outputs": [
        {
          "output_type": "stream",
          "text": [
            "sum of probabilities= 1.0000000000000009\n"
          ],
          "name": "stdout"
        },
        {
          "output_type": "display_data",
          "data": {
            "text/plain": [
              "[(0, 0.0009765625),\n",
              " (1, 0.00976562500000001),\n",
              " (2, 0.04394531249999999),\n",
              " (3, 0.11718750000000014),\n",
              " (4, 0.20507812500000022),\n",
              " (5, 0.24609375000000025),\n",
              " (6, 0.20507812500000022),\n",
              " (7, 0.11718750000000014),\n",
              " (8, 0.04394531249999999),\n",
              " (9, 0.00976562500000001),\n",
              " (10, 0.0009765625)]"
            ]
          },
          "metadata": {
            "tags": []
          }
        },
        {
          "output_type": "display_data",
          "data": {
            "text/plain": [
              "<BarContainer object of 11 artists>"
            ]
          },
          "metadata": {
            "tags": []
          }
        },
        {
          "output_type": "display_data",
          "data": {
            "image/png": "[encoded data removed]",
            "text/plain": [
              "<Figure size 432x288 with 1 Axes>"
            ]
          },
          "metadata": {
            "tags": [],
            "needs_background": "light"
          }
        }
      ]
    },
    {
      "cell_type": "code",
      "metadata": {
        "id": "kBjjHwcilaXq",
        "outputId": "71704b36-d0a9-4a50-f516-3991603d0276",
        "colab": {
          "base_uri": "https://localhost:8080/",
          "height": 346
        }
      },
      "source": [
        "# ALTERNATIVELY : SIMPLE CODE\n",
        "\n",
        "binom.pmf(  range(10),    p=.5,           n=10)\n",
        "     # 1-10 successes      .5 prob         10 tries\n",
        "\n",
        "\n",
        "pmf= binom.pmf(  range(10), n=10, p=.5)\n",
        "\n",
        "\n",
        "display(pmf)\n",
        "\n",
        "plt.bar(   range(10),    pmf)\n",
        "  #x:num of successes  , probabilities\n",
        "\n",
        "plt.xlabel('Number of successes', color='white')\n",
        "plt.ylabel('Probability', color='white')\n",
        "plt.title('Probability of n heads in 10 coin tossses ', color= 'white')"
      ],
      "execution_count": 3,
      "outputs": [
        {
          "output_type": "display_data",
          "data": {
            "text/plain": [
              "array([0.00097656, 0.00976563, 0.04394531, 0.1171875 , 0.20507813,\n",
              "       0.24609375, 0.20507813, 0.1171875 , 0.04394531, 0.00976563])"
            ]
          },
          "metadata": {
            "tags": []
          }
        },
        {
          "output_type": "execute_result",
          "data": {
            "text/plain": [
              "Text(0.5, 1.0, 'Probability of n heads in 10 coin tossses ')"
            ]
          },
          "metadata": {
            "tags": []
          },
          "execution_count": 3
        },
        {
          "output_type": "display_data",
          "data": {
            "image/png": "[encoded data removed]",
            "text/plain": [
              "<Figure size 432x288 with 1 Axes>"
            ]
          },
          "metadata": {
            "tags": [],
            "needs_background": "light"
          }
        }
      ]
    },
    {
      "cell_type": "code",
      "metadata": {
        "id": "emjyAoUstAxV"
      },
      "source": [
        ""
      ],
      "execution_count": 208,
      "outputs": []
    },
    {
      "cell_type": "code",
      "metadata": {
        "id": "CKGDqf1y6EN5"
      },
      "source": [
        ""
      ],
      "execution_count": null,
      "outputs": []
    },
    {
      "cell_type": "code",
      "metadata": {
        "id": "1_u6vdpp3sZx",
        "outputId": "d003f3e9-7292-47df-a598-c6d41189e07a",
        "colab": {
          "base_uri": "https://localhost:8080/"
        }
      },
      "source": [
        "#should be close to this number\n",
        "\n",
        "binom.pmf(3, n=10, p=.5)"
      ],
      "execution_count": 4,
      "outputs": [
        {
          "output_type": "execute_result",
          "data": {
            "text/plain": [
              "0.11718750000000014"
            ]
          },
          "metadata": {
            "tags": []
          },
          "execution_count": 4
        }
      ]
    },
    {
      "cell_type": "code",
      "metadata": {
        "id": "qkK3FOT_7t5Q"
      },
      "source": [
        ""
      ],
      "execution_count": null,
      "outputs": []
    },
    {
      "cell_type": "code",
      "metadata": {
        "id": "wLkEWhPwlk-M",
        "outputId": "d5c0a1bd-4edf-4e6f-c3c6-dcea07126d2c",
        "colab": {
          "base_uri": "https://localhost:8080/"
        }
      },
      "source": [
        "'''MAKING THE DATASET TO FIT THE BINOMIAL PERAMATERS: 10 tries, probability .50 of getting a head on a flip: \n",
        "show the number of heads in 10 flips, run 1000 times '''\n",
        "\n",
        "dataset= np.random.binomial ( n= 10, p=.5, size= 1000)         #try 10 times, prob=.05   lets run the experiment 100 times\n",
        "\n",
        "dataset[:150]"
      ],
      "execution_count": 141,
      "outputs": [
        {
          "output_type": "execute_result",
          "data": {
            "text/plain": [
              "array([4, 4, 6, 5, 5, 4, 5, 5, 5, 4, 7, 5, 6, 5, 7, 6, 4, 6, 6, 8, 6, 3,\n",
              "       5, 3, 2, 6, 7, 2, 2, 4, 5, 5, 5, 5, 3, 4, 4, 7, 5, 8, 6, 6, 5, 3,\n",
              "       6, 2, 7, 4, 5, 6, 5, 4, 6, 7, 6, 4, 5, 6, 7, 1, 5, 4, 4, 3, 7, 2,\n",
              "       4, 2, 7, 2, 4, 5, 7, 7, 5, 5, 7, 6, 6, 6, 4, 4, 4, 4, 4, 3, 5, 6,\n",
              "       7, 4, 4, 4, 4, 6, 2, 6, 5, 6, 5, 3, 5, 5, 1, 5, 5, 7, 5, 4, 3, 3,\n",
              "       6, 4, 5, 5, 3, 7, 6, 5, 4, 4, 4, 7, 3, 4, 7, 8, 5, 4, 3, 4, 4, 4,\n",
              "       6, 8, 7, 6, 7, 6, 5, 3, 4, 5, 1, 7, 3, 7, 5, 5, 9, 4])"
            ]
          },
          "metadata": {
            "tags": []
          },
          "execution_count": 141
        }
      ]
    },
    {
      "cell_type": "code",
      "metadata": {
        "id": "XubPOC3-3ZUh",
        "outputId": "84bcb1fd-cb22-4d09-cbfa-403698355c4c",
        "colab": {
          "base_uri": "https://localhost:8080/"
        }
      },
      "source": [
        "# PROBABILITY OF 3 succeses/ heads in 10 flips:  divide the sum of a certain experience by the sample size\n",
        "\n",
        "sum(dataset==3)/ 1000"
      ],
      "execution_count": 152,
      "outputs": [
        {
          "output_type": "execute_result",
          "data": {
            "text/plain": [
              "0.12"
            ]
          },
          "metadata": {
            "tags": []
          },
          "execution_count": 152
        }
      ]
    },
    {
      "cell_type": "code",
      "metadata": {
        "id": "2pK3S7nu3_5v",
        "outputId": "3a29b791-3554-4774-800a-e8dd5929a611",
        "colab": {
          "base_uri": "https://localhost:8080/"
        }
      },
      "source": [
        "#different way\n",
        "\n",
        "len(dataset[dataset==3])  / 1000"
      ],
      "execution_count": 165,
      "outputs": [
        {
          "output_type": "execute_result",
          "data": {
            "text/plain": [
              "0.12"
            ]
          },
          "metadata": {
            "tags": []
          },
          "execution_count": 165
        }
      ]
    },
    {
      "cell_type": "code",
      "metadata": {
        "id": "bNTtyYHt3_qa"
      },
      "source": [
        ""
      ],
      "execution_count": 163,
      "outputs": []
    },
    {
      "cell_type": "code",
      "metadata": {
        "id": "A6_fF7Ym7uo8"
      },
      "source": [
        ""
      ],
      "execution_count": 165,
      "outputs": []
    },
    {
      "cell_type": "code",
      "metadata": {
        "id": "P0oVM8hT7ukl"
      },
      "source": [
        ""
      ],
      "execution_count": null,
      "outputs": []
    },
    {
      "cell_type": "code",
      "metadata": {
        "id": "o4PGco3wseqt",
        "outputId": "b08d2538-1d6d-4382-b63f-579a6d03c9df",
        "colab": {
          "base_uri": "https://localhost:8080/"
        }
      },
      "source": [
        "'''A real world example. A company drills 9 wild-cat oil exploration\n",
        "wells, each with an estimated probability of success of 0.1. All nine\n",
        "wells fail. What is the probability of that happening?\n",
        "\n",
        "Let's do 20,000 trials of the model, and count the number that\n",
        "generate zero positive results.\n",
        "\n",
        ">>> sum(np.random.binomial(9, 0.1, 20000) == 0)/20000.\n",
        "# answer = 0.38885, or 38%.\n",
        "'''\n",
        "\n",
        "\n",
        "# show a dataset with the number of successes in 20000 trials of drilling 9 wells with a chance of succes of 10%\n",
        "\n",
        "\n",
        "\n",
        "                       # tries    p success    trials of the model\n",
        "oil=  np.random.binomial(  9,     0.1,         20000) \n",
        "sum(oil==0)/ 20000"
      ],
      "execution_count": 6,
      "outputs": [
        {
          "output_type": "execute_result",
          "data": {
            "text/plain": [
              "0.38705"
            ]
          },
          "metadata": {
            "tags": []
          },
          "execution_count": 6
        }
      ]
    },
    {
      "cell_type": "code",
      "metadata": {
        "id": "rjbYWeS9uDie"
      },
      "source": [
        ""
      ],
      "execution_count": 220,
      "outputs": []
    },
    {
      "cell_type": "code",
      "metadata": {
        "id": "Dw6S56W7tOhp"
      },
      "source": [
        ""
      ],
      "execution_count": null,
      "outputs": []
    },
    {
      "cell_type": "code",
      "metadata": {
        "id": "WTQeXPOw2PS0"
      },
      "source": [
        ""
      ],
      "execution_count": null,
      "outputs": []
    },
    {
      "cell_type": "code",
      "metadata": {
        "id": "bBNCfCPn2O-s"
      },
      "source": [
        ""
      ],
      "execution_count": null,
      "outputs": []
    },
    {
      "cell_type": "code",
      "metadata": {
        "id": "UewGOrrs2O7Z"
      },
      "source": [
        ""
      ],
      "execution_count": null,
      "outputs": []
    },
    {
      "cell_type": "markdown",
      "metadata": {
        "id": "hLIVd21Non2X"
      },
      "source": [
        "REAL EXAMPLE\n",
        "\n",
        "CALL CENTER:\n",
        " * average of 55 calls a day   ( n= tries)\n",
        " * probability of success = .05\n",
        " * average revenue for each success = $20\n",
        " * 100 employees\n",
        " * wages = 200 per day\n",
        "\n"
      ]
    },
    {
      "cell_type": "code",
      "metadata": {
        "id": "m4wqr8bunTG5",
        "outputId": "0584b071-8e91-478a-d5c3-c794a02184aa",
        "colab": {
          "base_uri": "https://localhost:8080/"
        }
      },
      "source": [
        "employees= 100\n",
        "wages= 200\n",
        "\n",
        "no=50\n",
        "po= 0.10\n",
        "\n",
        "revenue= 100\n",
        "\n",
        "\n",
        "\n",
        "conversion= np. random.binomial ( no , po , size= employees)                             # size= number of trials or employees in this case   \n",
        "\n",
        "\n",
        "avgconversions=     np.mean(conversion)\n",
        "stdconv=            np.std(conversion)\n",
        "totalconversions=   np.sum(conversion)\n",
        "totalrev=           np.sum(conversion) * revenue\n",
        "expenses=           employees * wages\n",
        "profits =           totalrev - expenses\n",
        "\n",
        "print('SAMPLE OF AMOUNT OF CONVERSIONS ' + str(conversion))\n",
        "\n",
        "print('avg conversions per employee = ' + str(avgconversions))\n",
        "print('std of conversions= ' + str(stdconv))\n",
        "print('total conversions= ' + str(totalconversions))\n",
        "print('revenue= $' + str(totalrev))\n",
        "print('expenses= $' + str(expenses))\n",
        "print('profits= $' +  str(profits))"
      ],
      "execution_count": 166,
      "outputs": [
        {
          "output_type": "stream",
          "text": [
            "SAMPLE OF AMOUNT OF CONVERSIONS [ 5  4  9  2  4  3  7  1  4  8  2 10  3  3  7  4  2  6  1  4  6  3  4  4\n",
            "  5  5  7  5  5  2  6  7  6  5  2  2  2  3  4  2  2  5  3 10  4  3  4  2\n",
            "  5  7  7  5  4  6  6  3  1  3  5 10  4  2  7  3  3  4  6  4  5  2  7  2\n",
            "  3  9  4  6  6  4  9  6  5  4  7  5  8  5  6  8  5  2  4  7  2  5  5  6\n",
            "  8  5  4  7]\n",
            "avg conversions per employee = 4.73\n",
            "std of conversions= 2.1394158081121115\n",
            "total conversions= 473\n",
            "revenue= $47300\n",
            "expenses= $20000\n",
            "profits= $27300\n"
          ],
          "name": "stdout"
        }
      ]
    },
    {
      "cell_type": "markdown",
      "metadata": {
        "id": "fekHWE_E0z8I"
      },
      "source": [
        "LETS PLOT THE PROBABILITY OF PROFITS"
      ]
    },
    {
      "cell_type": "code",
      "metadata": {
        "id": "FvcdTRSunYzx",
        "outputId": "db74b549-3fbc-4c52-d824-84a4e03d90d3",
        "colab": {
          "base_uri": "https://localhost:8080/",
          "height": 513
        }
      },
      "source": [
        "#binomial random variables of employees\n",
        "conversions_up=  np.random.binomial( n=50, p=.10, size= employees)\n",
        "\n",
        "#number of days to simulate (50 tries * 100 employees, lets do this for 1000 days)\n",
        "trials= 1000\n",
        "\n",
        "\n",
        "\n",
        "sim_conversions=  [ np.sum(np.random.binomial(n=50 , p=0.10, size=employees)) for i in range(trials)]               \n",
        "#ADD ALL THE SUCCESSUL CONVERSIONS in 50 tries/calls for each employee and run it for 1000 TRIALS\n",
        "\n",
        "\n",
        "\n",
        "\n",
        "sim_profits= (np.array( sim_conversions) * revenue) -  (employees*wages)                                       \n",
        "# sum   CONVERSION PER DAY in each trial * REVENUE =  sales       -       costs= Profit            np.array makes it work on each trial ( check if there's negatives in the array to prove)\n",
        "\n",
        "\n",
        "\n",
        "fig,ax = plt.subplots( figsize= (14,7))\n",
        "\n",
        "ax= sns.distplot( sim_profits, bins=20, label='old results', color='blue')\n",
        "\n",
        "ax.set_xlabel('Profits')\n",
        "ax.set_ylabel('Freq')\n",
        "plt.legend()\n"
      ],
      "execution_count": 168,
      "outputs": [
        {
          "output_type": "stream",
          "text": [
            "/usr/local/lib/python3.6/dist-packages/seaborn/distributions.py:2551: FutureWarning: `distplot` is a deprecated function and will be removed in a future version. Please adapt your code to use either `displot` (a figure-level function with similar flexibility) or `histplot` (an axes-level function for histograms).\n",
            "  warnings.warn(msg, FutureWarning)\n"
          ],
          "name": "stderr"
        },
        {
          "output_type": "execute_result",
          "data": {
            "text/plain": [
              "<matplotlib.legend.Legend at 0x7fdc939d8470>"
            ]
          },
          "metadata": {
            "tags": []
          },
          "execution_count": 168
        },
        {
          "output_type": "display_data",
          "data": {
            "image/png": "[encoded data removed]",
            "text/plain": [
              "<Figure size 1008x504 with 1 Axes>"
            ]
          },
          "metadata": {
            "tags": [],
            "needs_background": "light"
          }
        }
      ]
    },
    {
      "cell_type": "code",
      "metadata": {
        "id": "0JH2j1GQ1ukB"
      },
      "source": [
        ""
      ],
      "execution_count": 104,
      "outputs": []
    },
    {
      "cell_type": "code",
      "metadata": {
        "id": "TQIhVm9d5Eeg"
      },
      "source": [
        ""
      ],
      "execution_count": 104,
      "outputs": []
    },
    {
      "cell_type": "code",
      "metadata": {
        "id": "aantZDb28eLq"
      },
      "source": [
        ""
      ],
      "execution_count": 196,
      "outputs": []
    },
    {
      "cell_type": "markdown",
      "metadata": {
        "id": "6uqrf0iN24ON"
      },
      "source": [
        "NOW, LETS ASSUME THE COMPANY IMPROVED:\n",
        "\n",
        "employees= 100\n",
        "wages= 200\n",
        "\n",
        "n= 55   , they are able to make more calls/ attempts\n",
        "\n",
        "p= .05      ,  higher chance of conversion\n",
        "\n",
        "revenue= 100\n",
        "\n"
      ]
    },
    {
      "cell_type": "code",
      "metadata": {
        "id": "aXdLQooZ2Knn",
        "outputId": "6d29f928-5034-48ef-bb88-98b850dc3005",
        "colab": {
          "base_uri": "https://localhost:8080/",
          "height": 353
        }
      },
      "source": [
        "n=55\n",
        "p=0.05\n",
        "\n",
        "employees= 100\n",
        "wages= 200\n",
        "revenue= 100\n",
        "\n",
        "\n",
        "conversions_up= np.random.binomial(n=55 , p =0.30, size= employees)\n",
        "trials= 1000\n",
        "\n",
        "simconversionsup = [  np.sum(np.random.binomial(n=55, p=.30 , size= employees)) for i in range(trials)]          \n",
        "# run 1000 trials of 55 calls per 100 employees with 0.5 percentage chance of success\n",
        "\n",
        "\n",
        "\n",
        "simprofitsup=  (np.array( simconversionsup ) * revenue) - (employees * wages)                       \n",
        "#array of conversions per day * its revenue -  ( cost per day)\n",
        "\n",
        "\n",
        "\n",
        "fig,ax= plt.subplots()\n",
        "sns.distplot(simprofitsup, bins=20, label='Improved company', color='red')\n",
        "\n",
        "plt.xlabel('Profits in 1000 trials', color='white')\n",
        "plt.ylabel('Probability of the profit', color='white')\n",
        "plt.xticks(color='white')\n",
        "plt.yticks(color='white')\n",
        "plt.legend()"
      ],
      "execution_count": 169,
      "outputs": [
        {
          "output_type": "stream",
          "text": [
            "/usr/local/lib/python3.6/dist-packages/seaborn/distributions.py:2551: FutureWarning: `distplot` is a deprecated function and will be removed in a future version. Please adapt your code to use either `displot` (a figure-level function with similar flexibility) or `histplot` (an axes-level function for histograms).\n",
            "  warnings.warn(msg, FutureWarning)\n"
          ],
          "name": "stderr"
        },
        {
          "output_type": "execute_result",
          "data": {
            "text/plain": [
              "<matplotlib.legend.Legend at 0x7fdc9397a908>"
            ]
          },
          "metadata": {
            "tags": []
          },
          "execution_count": 169
        },
        {
          "output_type": "display_data",
          "data": {
            "image/png": "[encoded data removed]",
            "text/plain": [
              "<Figure size 432x288 with 1 Axes>"
            ]
          },
          "metadata": {
            "tags": [],
            "needs_background": "dark"
          }
        }
      ]
    },
    {
      "cell_type": "code",
      "metadata": {
        "id": "QNmuH6JO2MOr",
        "outputId": "3f88a180-ac31-4144-86b3-64645aa425d2",
        "colab": {
          "base_uri": "https://localhost:8080/",
          "height": 384
        }
      },
      "source": [
        "#PLOT BOTH TOGETHER\n",
        "\n",
        "\n",
        "fig,ax= plt.subplots()\n",
        "\n",
        "sns.distplot(simprofitsup, bins=20, label='Improved company', color='red')\n",
        "sns.distplot(sim_profits, bins=20, label='Struggling company', color='black')\n",
        "\n",
        "plt.xlabel('Profits in 1000 trials', color='white')\n",
        "plt.ylabel('Probability of the profit', color='white')\n",
        "plt.xticks(color='white')\n",
        "plt.yticks(color='white')\n",
        "plt.legend()"
      ],
      "execution_count": 170,
      "outputs": [
        {
          "output_type": "stream",
          "text": [
            "/usr/local/lib/python3.6/dist-packages/seaborn/distributions.py:2551: FutureWarning: `distplot` is a deprecated function and will be removed in a future version. Please adapt your code to use either `displot` (a figure-level function with similar flexibility) or `histplot` (an axes-level function for histograms).\n",
            "  warnings.warn(msg, FutureWarning)\n",
            "/usr/local/lib/python3.6/dist-packages/seaborn/distributions.py:2551: FutureWarning: `distplot` is a deprecated function and will be removed in a future version. Please adapt your code to use either `displot` (a figure-level function with similar flexibility) or `histplot` (an axes-level function for histograms).\n",
            "  warnings.warn(msg, FutureWarning)\n"
          ],
          "name": "stderr"
        },
        {
          "output_type": "execute_result",
          "data": {
            "text/plain": [
              "<matplotlib.legend.Legend at 0x7fdc938444a8>"
            ]
          },
          "metadata": {
            "tags": []
          },
          "execution_count": 170
        },
        {
          "output_type": "display_data",
          "data": {
            "image/png": "[encoded data removed]",
            "text/plain": [
              "<Figure size 432x288 with 1 Axes>"
            ]
          },
          "metadata": {
            "tags": [],
            "needs_background": "dark"
          }
        }
      ]
    },
    {
      "cell_type": "code",
      "metadata": {
        "id": "hfhdn8e-2AA7"
      },
      "source": [
        ""
      ],
      "execution_count": 92,
      "outputs": []
    },
    {
      "cell_type": "code",
      "metadata": {
        "id": "CeFGLPBD5dpx"
      },
      "source": [
        ""
      ],
      "execution_count": 92,
      "outputs": []
    },
    {
      "cell_type": "code",
      "metadata": {
        "id": "SW0M1Ypx6o1I"
      },
      "source": [
        ""
      ],
      "execution_count": null,
      "outputs": []
    },
    {
      "cell_type": "code",
      "metadata": {
        "id": "0zRCEm_YZjJ-"
      },
      "source": [
        ""
      ],
      "execution_count": null,
      "outputs": []
    },
    {
      "cell_type": "code",
      "metadata": {
        "id": "ajpcQQfRZi9j"
      },
      "source": [
        ""
      ],
      "execution_count": null,
      "outputs": []
    },
    {
      "cell_type": "code",
      "metadata": {
        "id": "CF6kIj8C_Yq5"
      },
      "source": [
        ""
      ],
      "execution_count": null,
      "outputs": []
    },
    {
      "cell_type": "code",
      "metadata": {
        "id": "J4ua22uU_YfB"
      },
      "source": [
        ""
      ],
      "execution_count": null,
      "outputs": []
    },
    {
      "cell_type": "code",
      "metadata": {
        "id": "DhsmpS2s_Ycg"
      },
      "source": [
        ""
      ],
      "execution_count": 173,
      "outputs": []
    },
    {
      "cell_type": "markdown",
      "metadata": {
        "id": "LxIhrwNg_gI_"
      },
      "source": [
        "CALCULATE THE PROBABILITY OF THE KNICKS WINNING A CERTAIN AMOUNT OF GAMES IN A SEASON"
      ]
    },
    {
      "cell_type": "code",
      "metadata": {
        "id": "-2WnEUzm_ZUh",
        "outputId": "6ab655b1-e382-456b-cbcf-a91a34b118cd",
        "colab": {
          "base_uri": "https://localhost:8080/",
          "height": 87
        }
      },
      "source": [
        "team= 'knicks'\n",
        "wins = 2799\n",
        "games= 2799+2988\n",
        "\n",
        "probability =  np.round(wins/games , decimals=4)\n",
        "display ( 'historical wins: ' , wins ,   'probability of winning a game: ' , probability)"
      ],
      "execution_count": 179,
      "outputs": [
        {
          "output_type": "display_data",
          "data": {
            "application/vnd.google.colaboratory.intrinsic+json": {
              "type": "string"
            },
            "text/plain": [
              "'historical wins: '"
            ]
          },
          "metadata": {
            "tags": []
          }
        },
        {
          "output_type": "display_data",
          "data": {
            "text/plain": [
              "2799"
            ]
          },
          "metadata": {
            "tags": []
          }
        },
        {
          "output_type": "display_data",
          "data": {
            "application/vnd.google.colaboratory.intrinsic+json": {
              "type": "string"
            },
            "text/plain": [
              "'probability of winning a game: '"
            ]
          },
          "metadata": {
            "tags": []
          }
        },
        {
          "output_type": "display_data",
          "data": {
            "text/plain": [
              "0.4837"
            ]
          },
          "metadata": {
            "tags": []
          }
        }
      ]
    },
    {
      "cell_type": "code",
      "metadata": {
        "id": "eAPOdCFgKbjW"
      },
      "source": [
        ""
      ],
      "execution_count": null,
      "outputs": []
    },
    {
      "cell_type": "code",
      "metadata": {
        "id": "gglIwFysC7RM",
        "outputId": "ef4eecd0-e71d-4005-b50a-2eb27ae04b57",
        "colab": {
          "base_uri": "https://localhost:8080/",
          "height": 285
        }
      },
      "source": [
        "# LETS FIND THE PROBABILITY OF WINNING N AMOUNT OF GAME OUT OF 82\n",
        "\n",
        "sns.set()\n",
        "gamesperszn= 82\n",
        "\n",
        "winningdistribution= binom.pmf(  range(gamesperszn) , n=gamesperszn ,  p= probability)               # prob of winning n games out of n=82 tries\n",
        "\n",
        "plt.bar( range(82), winningdistribution )"
      ],
      "execution_count": 451,
      "outputs": [
        {
          "output_type": "execute_result",
          "data": {
            "text/plain": [
              "<BarContainer object of 82 artists>"
            ]
          },
          "metadata": {
            "tags": []
          },
          "execution_count": 451
        },
        {
          "output_type": "display_data",
          "data": {
            "image/png": "[encoded data removed]",
            "text/plain": [
              "<Figure size 432x288 with 1 Axes>"
            ]
          },
          "metadata": {
            "tags": []
          }
        }
      ]
    },
    {
      "cell_type": "code",
      "metadata": {
        "id": "JpIaSzsFDq1S",
        "outputId": "5fe4d8e1-b439-4e56-a71a-65f6267e4534",
        "colab": {
          "base_uri": "https://localhost:8080/"
        }
      },
      "source": [
        "winningdistribution"
      ],
      "execution_count": 184,
      "outputs": [
        {
          "output_type": "execute_result",
          "data": {
            "text/plain": [
              "array([2.87061040e-24, 2.20527152e-22, 8.36741008e-21, 2.09042095e-19,\n",
              "       3.86789620e-18, 5.65292693e-17, 6.79652328e-16, 6.91315546e-15,\n",
              "       6.07185738e-14, 4.67718701e-13, 3.19875927e-12, 1.96153170e-11,\n",
              "       1.08729251e-10, 5.48497997e-10, 2.53262018e-09, 1.07562696e-08,\n",
              "       4.21978634e-08, 1.53482703e-07, 5.19247306e-07, 1.63860618e-06,\n",
              "       4.83569726e-06, 1.33753594e-05, 3.47445409e-05, 8.49149101e-05,\n",
              "       1.95568402e-04, 4.25070175e-04, 8.73043943e-04, 1.69642369e-03,\n",
              "       3.12185659e-03, 5.44606316e-03, 9.01386918e-03, 1.41653354e-02,\n",
              "       2.11505187e-02, 3.00227901e-02, 4.05361198e-02, 5.20822011e-02,\n",
              "       6.37028188e-02, 7.41974056e-02, 8.23173914e-02, 8.70068872e-02,\n",
              "       8.76266196e-02, 8.40960222e-02, 7.69102074e-02, 6.70269535e-02,\n",
              "       5.56589967e-02, 4.40332173e-02, 3.31816726e-02, 2.38109585e-02,\n",
              "       1.62658831e-02, 1.05738817e-02, 6.53811184e-03, 3.84331614e-03,\n",
              "       2.14653721e-03, 1.13830271e-03, 5.72711587e-04, 2.73152560e-04,\n",
              "       1.23382900e-04, 5.27263160e-05, 2.12918504e-05, 8.11421663e-06,\n",
              "       2.91405099e-06, 9.84609347e-07, 3.12439204e-07, 9.29242213e-08,\n",
              "       2.58449990e-08, 6.70516749e-09, 1.61803749e-09, 3.61999292e-10,\n",
              "       7.48107536e-11, 1.42205678e-11, 2.47420803e-12, 3.91771709e-13,\n",
              "       5.60747340e-14, 7.19645021e-15, 8.19979655e-16, 8.19418496e-17,\n",
              "       7.07072868e-18, 5.16177013e-19, 3.09990243e-20, 1.47046566e-21,\n",
              "       5.16606798e-23, 1.19503068e-24])"
            ]
          },
          "metadata": {
            "tags": []
          },
          "execution_count": 184
        }
      ]
    },
    {
      "cell_type": "code",
      "metadata": {
        "id": "WCASMf51EC32"
      },
      "source": [
        ""
      ],
      "execution_count": 266,
      "outputs": []
    },
    {
      "cell_type": "code",
      "metadata": {
        "id": "o9k5n7aTFIDZ"
      },
      "source": [
        ""
      ],
      "execution_count": 401,
      "outputs": []
    },
    {
      "cell_type": "code",
      "metadata": {
        "id": "Hb-zY5xUEF7W"
      },
      "source": [
        "# NOW LETS SIMULATE MANY SEASONS AND FIND THE PROBABILITY OF WINS\n",
        "\n",
        "trials=10000\n",
        "\n",
        "\n",
        "def simulate():\n",
        "  simulateseasons= [   np.random.binomial(  n= gamesperszn, p= probability )  for i in range(trials)   ]\n",
        "  return simulateseasons\n",
        "  "
      ],
      "execution_count": 452,
      "outputs": []
    },
    {
      "cell_type": "code",
      "metadata": {
        "id": "CDVTVGW7VL6W"
      },
      "source": [
        "simulatedresults= simulate()"
      ],
      "execution_count": 453,
      "outputs": []
    },
    {
      "cell_type": "code",
      "metadata": {
        "id": "C_KmRSGGGKqa",
        "outputId": "53fa89a4-0ffb-4ccd-eec6-42a74f44b008",
        "colab": {
          "base_uri": "https://localhost:8080/",
          "height": 355
        }
      },
      "source": [
        "sns.distplot(simulatedresults)\n",
        "plt.title('Distribution of historical wins per season')"
      ],
      "execution_count": 460,
      "outputs": [
        {
          "output_type": "stream",
          "text": [
            "/usr/local/lib/python3.6/dist-packages/seaborn/distributions.py:2551: FutureWarning: `distplot` is a deprecated function and will be removed in a future version. Please adapt your code to use either `displot` (a figure-level function with similar flexibility) or `histplot` (an axes-level function for histograms).\n",
            "  warnings.warn(msg, FutureWarning)\n"
          ],
          "name": "stderr"
        },
        {
          "output_type": "execute_result",
          "data": {
            "text/plain": [
              "Text(0.5, 1.0, 'Distribution of historical wins per season')"
            ]
          },
          "metadata": {
            "tags": []
          },
          "execution_count": 460
        },
        {
          "output_type": "display_data",
          "data": {
            "image/png": "[encoded data removed]",
            "text/plain": [
              "<Figure size 432x288 with 1 Axes>"
            ]
          },
          "metadata": {
            "tags": []
          }
        }
      ]
    },
    {
      "cell_type": "code",
      "metadata": {
        "id": "hlYhJ8RtOeII"
      },
      "source": [
        ""
      ],
      "execution_count": 455,
      "outputs": []
    },
    {
      "cell_type": "code",
      "metadata": {
        "id": "eQ8qxODkOd4S"
      },
      "source": [
        ""
      ],
      "execution_count": null,
      "outputs": []
    },
    {
      "cell_type": "markdown",
      "metadata": {
        "id": "E3VaY2EDOgDV"
      },
      "source": [
        "NOW LETS USE THE simulated seasons TO FIND PLAYOFF PROBABILITIES"
      ]
    },
    {
      "cell_type": "code",
      "metadata": {
        "id": "u66eVwszEYH-"
      },
      "source": [
        "# WIN NEEDED TO CLINCH IN EASTERN CONFERENCE = 42 \n",
        "\n",
        "\n",
        "def playofffunc():\n",
        "  pfbirths= 0\n",
        "  losingszn=0\n",
        "  \n",
        "  for i in simulatedresults:              # from the results of the simulated seasons\n",
        "    if i >= 42:                            # If the wins were greater or equal to 42\n",
        "      pfbirths+=1                             \n",
        "    if i < 42:\n",
        "      losingszn +=1\n",
        "  \n",
        "  return pfbirths, losingszn                #return the number of playoff appearances and losing seasons\n",
        " "
      ],
      "execution_count": 417,
      "outputs": []
    },
    {
      "cell_type": "code",
      "metadata": {
        "id": "CvqcxiH9FS_8",
        "outputId": "272e83a0-41e5-4245-bd4e-99a1f2d74e65",
        "colab": {
          "base_uri": "https://localhost:8080/",
          "height": 68
        }
      },
      "source": [
        "knicksplayoffs =  playofffunc()\n",
        "display( knicksplayoffs[0], knicksplayoffs[1])\n",
        "\n",
        "\n",
        "print('They made it {} times out of {} tries'.format( knicksplayoffs[0], knicksplayoffs[0]+knicksplayoffs[1]))\n"
      ],
      "execution_count": 420,
      "outputs": [
        {
          "output_type": "display_data",
          "data": {
            "text/plain": [
              "3482"
            ]
          },
          "metadata": {
            "tags": []
          }
        },
        {
          "output_type": "display_data",
          "data": {
            "text/plain": [
              "6518"
            ]
          },
          "metadata": {
            "tags": []
          }
        },
        {
          "output_type": "stream",
          "text": [
            "They made it 3482 times out of 10000 tries\n"
          ],
          "name": "stdout"
        }
      ]
    },
    {
      "cell_type": "code",
      "metadata": {
        "id": "gdgRP07yMBqL",
        "outputId": "07a8865c-c395-4f87-95f5-2584e0fc75ab",
        "colab": {
          "base_uri": "https://localhost:8080/"
        }
      },
      "source": [
        "probofplayoffs= 3482/ ( 3482+ 6518) \n",
        "print( 'The probability of them making the playoffs is {} %'.format( probofplayoffs * 100 ))\n"
      ],
      "execution_count": 433,
      "outputs": [
        {
          "output_type": "stream",
          "text": [
            "The probability of them making the playoffs is 34.82 %\n"
          ],
          "name": "stdout"
        }
      ]
    },
    {
      "cell_type": "markdown",
      "metadata": {
        "id": "6wz1FpMjOod7"
      },
      "source": [
        "WE SEE FROM THE SIMULATED SEASONS THAT THE PROBABILITY OF A KNICKS PLAYOFF BIRTH is 34.82 %\n",
        "\n",
        "Lets see  the probability of them making it n out of 10 tries"
      ]
    },
    {
      "cell_type": "code",
      "metadata": {
        "id": "CQzb3W2wLyp3",
        "outputId": "78083f8b-7830-4433-e189-f39854b0866c",
        "colab": {
          "base_uri": "https://localhost:8080/"
        }
      },
      "source": [
        "print( ' Their chances of making it are .3484, lets give them 10 tries  and find the probabilities of making it ' )\n",
        "\n",
        "playoffprobabilities= binom.pmf( k= range(11) ,n=10, p= .3484)         #  k= number of successful attempts   , n= tries\n",
        "\n",
        "playoffprobabilities                                       "
      ],
      "execution_count": 469,
      "outputs": [
        {
          "output_type": "stream",
          "text": [
            " Their chances of making it are .3484, lets give them 10 tries  and find the probabilities of making it \n"
          ],
          "name": "stdout"
        },
        {
          "output_type": "execute_result",
          "data": {
            "text/plain": [
              "array([1.37978289e-02, 7.37747637e-02, 1.77507788e-01, 2.53094795e-01,\n",
              "       2.36819977e-01, 1.51948582e-01, 6.77037112e-02, 2.06857607e-02,\n",
              "       4.14762836e-03, 4.92815538e-04, 2.63500512e-05])"
            ]
          },
          "metadata": {
            "tags": []
          },
          "execution_count": 469
        }
      ]
    },
    {
      "cell_type": "code",
      "metadata": {
        "id": "1j-L7Xy2oLcA"
      },
      "source": [
        ""
      ],
      "execution_count": 470,
      "outputs": []
    },
    {
      "cell_type": "code",
      "metadata": {
        "id": "gggNTYOoSsUA",
        "outputId": "45ae5ad7-eed6-4abc-e6d6-8aaa1409f5ac",
        "colab": {
          "base_uri": "https://localhost:8080/",
          "height": 505
        }
      },
      "source": [
        "\n",
        "pfvalues= list(enumerate( playoffprobabilities ))    # enumerate each probability with its corresponding wins out of 10\n",
        "\n",
        "display(pfvalues)\n",
        "\n",
        "\n",
        "\n",
        "sns.set()\n",
        "\n",
        "plt.bar( range ( len(pfvalues) ),  playoffprobabilities, color='blue', label='Probability')\n",
        "          # x values                yvalues\n",
        "plt.xlabel('Playoffs made out of 10')\n",
        "plt.ylabel('Probability/ % chance')\n",
        "plt.title(' Probablities of the knicks making n playoff appearances out of 10', color='orange')\n",
        "plt.legend(loc='best')"
      ],
      "execution_count": 472,
      "outputs": [
        {
          "output_type": "display_data",
          "data": {
            "text/plain": [
              "[(0, 0.013797828937813122),\n",
              " (1, 0.07377476368836856),\n",
              " (2, 0.1775077877695274),\n",
              " (3, 0.2530947954119229),\n",
              " (4, 0.23681997661548404),\n",
              " (5, 0.1519485816810951),\n",
              " (6, 0.06770371119512676),\n",
              " (7, 0.020685760747506943),\n",
              " (8, 0.004147628363507949),\n",
              " (9, 0.0004928155384510504),\n",
              " (10, 2.635005119649258e-05)]"
            ]
          },
          "metadata": {
            "tags": []
          }
        },
        {
          "output_type": "execute_result",
          "data": {
            "text/plain": [
              "<matplotlib.legend.Legend at 0x7fdc82136c50>"
            ]
          },
          "metadata": {
            "tags": []
          },
          "execution_count": 472
        },
        {
          "output_type": "display_data",
          "data": {
            "image/png": "[encoded data removed]",
            "text/plain": [
              "<Figure size 432x288 with 1 Axes>"
            ]
          },
          "metadata": {
            "tags": []
          }
        }
      ]
    },
    {
      "cell_type": "code",
      "metadata": {
        "id": "rvWoIlS_UsO2",
        "outputId": "c8737910-d65b-440d-9adb-448d72b8a3de",
        "colab": {
          "base_uri": "https://localhost:8080/",
          "height": 301
        }
      },
      "source": [
        "plt.scatter(x= range(len(pfvalues)), y=playoffprobabilities, label='probability of playoffs')\n",
        "plt.legend()\n",
        "plt.title('Scatter plot of probability for n playoff seasons out of 10')"
      ],
      "execution_count": 501,
      "outputs": [
        {
          "output_type": "execute_result",
          "data": {
            "text/plain": [
              "Text(0.5, 1.0, 'Scatter plot of probability for n playoff seasons out of 10')"
            ]
          },
          "metadata": {
            "tags": []
          },
          "execution_count": 501
        },
        {
          "output_type": "display_data",
          "data": {
            "image/png": "[encoded data removed]",
            "text/plain": [
              "<Figure size 432x288 with 1 Axes>"
            ]
          },
          "metadata": {
            "tags": []
          }
        }
      ]
    },
    {
      "cell_type": "code",
      "metadata": {
        "id": "aZChZowAS8wl"
      },
      "source": [
        ""
      ],
      "execution_count": null,
      "outputs": []
    },
    {
      "cell_type": "code",
      "metadata": {
        "id": "ni9Nhm1jUivv",
        "outputId": "b5cf04c9-7fc8-478a-9c50-c86535906cf8",
        "colab": {
          "base_uri": "https://localhost:8080/"
        }
      },
      "source": [
        "pfvalues"
      ],
      "execution_count": 474,
      "outputs": [
        {
          "output_type": "execute_result",
          "data": {
            "text/plain": [
              "[(0, 0.013797828937813122),\n",
              " (1, 0.07377476368836856),\n",
              " (2, 0.1775077877695274),\n",
              " (3, 0.2530947954119229),\n",
              " (4, 0.23681997661548404),\n",
              " (5, 0.1519485816810951),\n",
              " (6, 0.06770371119512676),\n",
              " (7, 0.020685760747506943),\n",
              " (8, 0.004147628363507949),\n",
              " (9, 0.0004928155384510504),\n",
              " (10, 2.635005119649258e-05)]"
            ]
          },
          "metadata": {
            "tags": []
          },
          "execution_count": 474
        }
      ]
    },
    {
      "cell_type": "markdown",
      "metadata": {
        "id": "O8OXPFNLpcYL"
      },
      "source": [
        "WE CAN SEE THAT THE KNICKS ODDS OF MAKING THE PLAYOFFS ARE LOW, LETS DIVE DEEPER"
      ]
    },
    {
      "cell_type": "code",
      "metadata": {
        "id": "SzGFa1CMUis6",
        "outputId": "a7a99c85-f30d-46b6-d26e-daf33eb5b077",
        "colab": {
          "base_uri": "https://localhost:8080/"
        }
      },
      "source": [
        "print('Probability of them making it more than 5 times per decade: ')\n",
        "\n",
        "print(playoffprobabilities[:6])\n",
        "print(str((1 - (np.sum(playoffprobabilities[:6])) )*100 ) + ' %')"
      ],
      "execution_count": 500,
      "outputs": [
        {
          "output_type": "stream",
          "text": [
            "Probability of them making it more than 5 times per decade: \n",
            "[0.01379783 0.07377476 0.17750779 0.2530948  0.23681998 0.15194858]\n",
            "9.305626589578875 %\n"
          ],
          "name": "stdout"
        }
      ]
    },
    {
      "cell_type": "code",
      "metadata": {
        "id": "BRxWlhLYQCRj"
      },
      "source": [
        ""
      ],
      "execution_count": 489,
      "outputs": []
    },
    {
      "cell_type": "code",
      "metadata": {
        "id": "zCD9Z-IrQB5i"
      },
      "source": [
        ""
      ],
      "execution_count": 489,
      "outputs": []
    },
    {
      "cell_type": "code",
      "metadata": {
        "id": "wH-fA4wJFhAU"
      },
      "source": [
        ""
      ],
      "execution_count": 489,
      "outputs": []
    },
    {
      "cell_type": "code",
      "metadata": {
        "id": "VDoxlauMGbMK"
      },
      "source": [
        ""
      ],
      "execution_count": 390,
      "outputs": []
    },
    {
      "cell_type": "code",
      "metadata": {
        "id": "6wpIQdHRPqG6"
      },
      "source": [
        ""
      ],
      "execution_count": null,
      "outputs": []
    },
    {
      "cell_type": "code",
      "metadata": {
        "id": "Pt0NGWgqPqDx"
      },
      "source": [
        ""
      ],
      "execution_count": 346,
      "outputs": []
    },
    {
      "cell_type": "code",
      "metadata": {
        "id": "jMMd-drcLdg5"
      },
      "source": [
        ""
      ],
      "execution_count": null,
      "outputs": []
    }
  ]
}