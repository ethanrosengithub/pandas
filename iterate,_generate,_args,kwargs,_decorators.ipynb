{
  "nbformat": 4,
  "nbformat_minor": 0,
  "metadata": {
    "colab": {
      "name": "iterate, generate, args,kwargs, decorators",
      "provenance": [],
      "collapsed_sections": []
    },
    "kernelspec": {
      "name": "python3",
      "display_name": "Python 3"
    }
  },
  "cells": [
    {
      "cell_type": "code",
      "metadata": {
        "id": "fyrRxZoqafN_"
      },
      "source": [
        "import pandas as pd\n",
        "import numpy as np\n",
        "import matplotlib.pyplot as plt\n",
        "import numexpr as ne\n",
        "import seaborn as sns\n",
        "from time import time\n",
        "from random import  random\n",
        "\n",
        "sns.set()\n",
        "%matplotlib inline\n"
      ],
      "execution_count": 69,
      "outputs": []
    },
    {
      "cell_type": "code",
      "metadata": {
        "id": "z5Cimgb8UlmH"
      },
      "source": [
        ""
      ],
      "execution_count": null,
      "outputs": []
    },
    {
      "cell_type": "markdown",
      "metadata": {
        "id": "YE1sBMTdVL7k"
      },
      "source": [
        "**ITERATORS**"
      ]
    },
    {
      "cell_type": "code",
      "metadata": {
        "id": "HdMfYMXLVPKK",
        "outputId": "a632cb1d-1ee6-4c7f-f2dd-fe3602583459",
        "colab": {
          "base_uri": "https://localhost:8080/",
          "height": 102
        }
      },
      "source": [
        "#range is actually an iterator not a list\n",
        "\n",
        "for value in[ 1,2,3,4,5]:\n",
        "  print(value + 2)"
      ],
      "execution_count": 286,
      "outputs": [
        {
          "output_type": "stream",
          "text": [
            "3\n",
            "4\n",
            "5\n",
            "6\n",
            "7\n"
          ],
          "name": "stdout"
        }
      ]
    },
    {
      "cell_type": "code",
      "metadata": {
        "id": "vcTNN87vVogJ",
        "outputId": "ecf4fff3-9d42-408c-c5c0-8dac516e705d",
        "colab": {
          "base_uri": "https://localhost:8080/",
          "height": 68
        }
      },
      "source": [
        "I = iter([1,2,3,4,5])\n",
        "\n",
        "print(next(I))\n",
        "print(next(I))\n",
        "print(next(I))"
      ],
      "execution_count": 288,
      "outputs": [
        {
          "output_type": "stream",
          "text": [
            "1\n",
            "2\n",
            "3\n"
          ],
          "name": "stdout"
        }
      ]
    },
    {
      "cell_type": "code",
      "metadata": {
        "id": "lHm_64nlVv_v",
        "outputId": "db43e6ec-0227-48ff-cc27-faa5e92d7891",
        "colab": {
          "base_uri": "https://localhost:8080/",
          "height": 187
        }
      },
      "source": [
        "N= 10**12\n",
        "for i in range(N):\n",
        "  if i>=10:\n",
        "    break\n",
        "  print(i)"
      ],
      "execution_count": 291,
      "outputs": [
        {
          "output_type": "stream",
          "text": [
            "0\n",
            "1\n",
            "2\n",
            "3\n",
            "4\n",
            "5\n",
            "6\n",
            "7\n",
            "8\n",
            "9\n"
          ],
          "name": "stdout"
        }
      ]
    },
    {
      "cell_type": "code",
      "metadata": {
        "id": "wBxXhCq-V8lO",
        "outputId": "2c8ea9d0-a659-47d6-d319-422bef3c9282",
        "colab": {
          "base_uri": "https://localhost:8080/",
          "height": 102
        }
      },
      "source": [
        "#enumerate a list\n",
        "\n",
        "List= [2,4,6,8,10]\n",
        "\n",
        "for index, value in enumerate(List):\n",
        "  print(index, value)"
      ],
      "execution_count": 292,
      "outputs": [
        {
          "output_type": "stream",
          "text": [
            "0 2\n",
            "1 4\n",
            "2 6\n",
            "3 8\n",
            "4 10\n"
          ],
          "name": "stdout"
        }
      ]
    },
    {
      "cell_type": "code",
      "metadata": {
        "id": "PIDpER7AaFFs"
      },
      "source": [
        ""
      ],
      "execution_count": null,
      "outputs": []
    },
    {
      "cell_type": "markdown",
      "metadata": {
        "id": "kFzJyxiaaGLc"
      },
      "source": [
        "**MAP AND FILTER**"
      ]
    },
    {
      "cell_type": "code",
      "metadata": {
        "id": "u-BJUIXCWVoV",
        "outputId": "ead4bcc3-e449-49bc-8659-953bd8d7c80d",
        "colab": {
          "base_uri": "https://localhost:8080/",
          "height": 187
        }
      },
      "source": [
        "#map and filter\n",
        "\n",
        "for value in map(lambda x : x+5 , range(10) ):\n",
        "  print (value)"
      ],
      "execution_count": 298,
      "outputs": [
        {
          "output_type": "stream",
          "text": [
            "5\n",
            "6\n",
            "7\n",
            "8\n",
            "9\n",
            "10\n",
            "11\n",
            "12\n",
            "13\n",
            "14\n"
          ],
          "name": "stdout"
        }
      ]
    },
    {
      "cell_type": "code",
      "metadata": {
        "id": "GGYFU6DfWjQl",
        "outputId": "2f17c388-73f8-4f19-d1b5-13abeaedeed4",
        "colab": {
          "base_uri": "https://localhost:8080/",
          "height": 102
        }
      },
      "source": [
        "for value in filter(lambda x: x %2 ==0, range(10)):\n",
        "  print(value)"
      ],
      "execution_count": 297,
      "outputs": [
        {
          "output_type": "stream",
          "text": [
            "0\n",
            "2\n",
            "4\n",
            "6\n",
            "8\n"
          ],
          "name": "stdout"
        }
      ]
    },
    {
      "cell_type": "code",
      "metadata": {
        "id": "I4AHhY8QWt-E"
      },
      "source": [
        ""
      ],
      "execution_count": null,
      "outputs": []
    },
    {
      "cell_type": "code",
      "metadata": {
        "id": "PTu5XzKVYuO0"
      },
      "source": [
        ""
      ],
      "execution_count": null,
      "outputs": []
    },
    {
      "cell_type": "markdown",
      "metadata": {
        "id": "0jksb9iHW9qo"
      },
      "source": [
        "**ARGS AND KWARGS:  functions that dont specify amount of inputs**\n",
        "\n",
        "**single inputs end up as args, keyword inputs end up as kwargs**"
      ]
    },
    {
      "cell_type": "code",
      "metadata": {
        "id": "hI5zPJOSXauL",
        "outputId": "47f67bdc-94a4-4da7-d7eb-e568c67ddc48",
        "colab": {
          "base_uri": "https://localhost:8080/",
          "height": 34
        }
      },
      "source": [
        "def person(*args, **kwargs):\n",
        "  return args, kwargs\n",
        "\n",
        "person( 'ethan' , age=21, loc='SI')\n",
        "\n",
        "         arg      keyword args"
      ],
      "execution_count": 303,
      "outputs": [
        {
          "output_type": "execute_result",
          "data": {
            "text/plain": [
              "(('ethan',), {'age': 21, 'loc': 'SI'})"
            ]
          },
          "metadata": {
            "tags": []
          },
          "execution_count": 303
        }
      ]
    },
    {
      "cell_type": "code",
      "metadata": {
        "id": "9LgYfHOcXhVE",
        "outputId": "89dae878-386b-4487-9810-a83678932ebb",
        "colab": {
          "base_uri": "https://localhost:8080/",
          "height": 34
        }
      },
      "source": [
        "person('ethan', 'rosen', age=21)\n",
        "             args           kwargs"
      ],
      "execution_count": 304,
      "outputs": [
        {
          "output_type": "execute_result",
          "data": {
            "text/plain": [
              "(('ethan', 'rosen'), {'age': 21})"
            ]
          },
          "metadata": {
            "tags": []
          },
          "execution_count": 304
        }
      ]
    },
    {
      "cell_type": "code",
      "metadata": {
        "id": "KUrvwQUJXt9D"
      },
      "source": [
        ""
      ],
      "execution_count": null,
      "outputs": []
    },
    {
      "cell_type": "code",
      "metadata": {
        "id": "oP-PDqxoXzEL"
      },
      "source": [
        ""
      ],
      "execution_count": null,
      "outputs": []
    },
    {
      "cell_type": "markdown",
      "metadata": {
        "id": "XawJSuPlXzOC"
      },
      "source": [
        "**LIST COMPREHENSION**"
      ]
    },
    {
      "cell_type": "code",
      "metadata": {
        "id": "cmNyC-6yX2dS",
        "outputId": "b2fc5742-09da-4b64-de18-2732acecdc78",
        "colab": {
          "base_uri": "https://localhost:8080/",
          "height": 34
        }
      },
      "source": [
        "# in brackets, list\n",
        "\n",
        "#basic for loop comprehension:\n",
        "\n",
        "L=[]\n",
        "for i in range(20):\n",
        "  L.append(i)\n",
        "\n",
        "L"
      ],
      "execution_count": 306,
      "outputs": [
        {
          "output_type": "execute_result",
          "data": {
            "text/plain": [
              "[0, 1, 2, 3, 4, 5, 6, 7, 8, 9, 10, 11, 12, 13, 14, 15, 16, 17, 18, 19]"
            ]
          },
          "metadata": {
            "tags": []
          },
          "execution_count": 306
        }
      ]
    },
    {
      "cell_type": "code",
      "metadata": {
        "id": "Busy65zZYCub",
        "outputId": "8a7c2ea7-0c6e-473a-8412-3634b4ce9c6e",
        "colab": {
          "base_uri": "https://localhost:8080/",
          "height": 222
        }
      },
      "source": [
        "#Simplified\n",
        "\n",
        "display (\n",
        "  [ i for i in range(20) ],\n",
        "\n",
        "\n",
        "'------------------',\n",
        "\n",
        "[(i,j) for i in range(2) for j in range(5)]\n",
        "\n",
        ")"
      ],
      "execution_count": 312,
      "outputs": [
        {
          "output_type": "display_data",
          "data": {
            "text/plain": [
              "[0, 1, 2, 3, 4, 5, 6, 7, 8, 9, 10, 11, 12, 13, 14, 15, 16, 17, 18, 19]"
            ]
          },
          "metadata": {
            "tags": []
          }
        },
        {
          "output_type": "display_data",
          "data": {
            "application/vnd.google.colaboratory.intrinsic+json": {
              "type": "string"
            },
            "text/plain": [
              "'------------------'"
            ]
          },
          "metadata": {
            "tags": []
          }
        },
        {
          "output_type": "display_data",
          "data": {
            "text/plain": [
              "[(0, 0),\n",
              " (0, 1),\n",
              " (0, 2),\n",
              " (0, 3),\n",
              " (0, 4),\n",
              " (1, 0),\n",
              " (1, 1),\n",
              " (1, 2),\n",
              " (1, 3),\n",
              " (1, 4)]"
            ]
          },
          "metadata": {
            "tags": []
          }
        }
      ]
    },
    {
      "cell_type": "code",
      "metadata": {
        "id": "28t5IbJcYMEi",
        "outputId": "76097180-076f-47da-9a54-2ac37bdf657e",
        "colab": {
          "base_uri": "https://localhost:8080/",
          "height": 34
        }
      },
      "source": [
        "[i for i in range(20) if i%2==0]   #the even numbers "
      ],
      "execution_count": 313,
      "outputs": [
        {
          "output_type": "execute_result",
          "data": {
            "text/plain": [
              "[0, 2, 4, 6, 8, 10, 12, 14, 16, 18]"
            ]
          },
          "metadata": {
            "tags": []
          },
          "execution_count": 313
        }
      ]
    },
    {
      "cell_type": "code",
      "metadata": {
        "id": "Ge0idQxjYlBx",
        "outputId": "b650ee20-446d-4d1d-f8ad-fb3af0829395",
        "colab": {
          "base_uri": "https://localhost:8080/",
          "height": 357
        }
      },
      "source": [
        "[i**2 for i in range(20)]"
      ],
      "execution_count": 314,
      "outputs": [
        {
          "output_type": "execute_result",
          "data": {
            "text/plain": [
              "[0,\n",
              " 1,\n",
              " 4,\n",
              " 9,\n",
              " 16,\n",
              " 25,\n",
              " 36,\n",
              " 49,\n",
              " 64,\n",
              " 81,\n",
              " 100,\n",
              " 121,\n",
              " 144,\n",
              " 169,\n",
              " 196,\n",
              " 225,\n",
              " 256,\n",
              " 289,\n",
              " 324,\n",
              " 361]"
            ]
          },
          "metadata": {
            "tags": []
          },
          "execution_count": 314
        }
      ]
    },
    {
      "cell_type": "code",
      "metadata": {
        "id": "ZQ-xY2T_Yzom"
      },
      "source": [
        ""
      ],
      "execution_count": null,
      "outputs": []
    },
    {
      "cell_type": "code",
      "metadata": {
        "id": "olS9NICYY2Qd"
      },
      "source": [
        ""
      ],
      "execution_count": null,
      "outputs": []
    },
    {
      "cell_type": "markdown",
      "metadata": {
        "id": "e3SY9MsFY3oP"
      },
      "source": [
        "**GENERATORS**"
      ]
    },
    {
      "cell_type": "code",
      "metadata": {
        "id": "mgLUl0taY5an",
        "outputId": "d6f30928-c257-4b4f-8543-41e513ba64cd",
        "colab": {
          "base_uri": "https://localhost:8080/",
          "height": 221
        }
      },
      "source": [
        "#   while list comprehensions use [], \n",
        "#    genorators use () or the word yield, these do not use memory or create values, they are a recipe for producing them\n",
        "\n",
        "\n",
        "genorator= ( i for i in range(12))\n",
        "\n",
        "for i in genorator:\n",
        "  print(i)"
      ],
      "execution_count": 317,
      "outputs": [
        {
          "output_type": "stream",
          "text": [
            "0\n",
            "1\n",
            "2\n",
            "3\n",
            "4\n",
            "5\n",
            "6\n",
            "7\n",
            "8\n",
            "9\n",
            "10\n",
            "11\n"
          ],
          "name": "stdout"
        }
      ]
    },
    {
      "cell_type": "code",
      "metadata": {
        "id": "bTbHFU1NZPt4",
        "outputId": "176be478-4ff1-44ea-bcff-9cf0e78f179f",
        "colab": {
          "base_uri": "https://localhost:8080/",
          "height": 34
        }
      },
      "source": [
        "g= (n**2 for n in range(12))\n",
        "\n",
        "list(g)"
      ],
      "execution_count": 332,
      "outputs": [
        {
          "output_type": "execute_result",
          "data": {
            "text/plain": [
              "[0, 1, 4, 9, 16, 25, 36, 49, 64, 81, 100, 121]"
            ]
          },
          "metadata": {
            "tags": []
          },
          "execution_count": 332
        }
      ]
    },
    {
      "cell_type": "code",
      "metadata": {
        "id": "dowwjyPHZrLt",
        "outputId": "b142608d-4ca9-4cdc-946c-1ac04e05caf2",
        "colab": {
          "base_uri": "https://localhost:8080/",
          "height": 34
        }
      },
      "source": [
        "#  if i run the list(g) again it is already used up"
      ],
      "execution_count": 326,
      "outputs": [
        {
          "output_type": "execute_result",
          "data": {
            "text/plain": [
              "[]"
            ]
          },
          "metadata": {
            "tags": []
          },
          "execution_count": 326
        }
      ]
    },
    {
      "cell_type": "code",
      "metadata": {
        "id": "jnbXXx0NZsrH",
        "outputId": "eaaf0d10-265f-453f-9cf0-05e8f28c68e2",
        "colab": {
          "base_uri": "https://localhost:8080/",
          "height": 34
        }
      },
      "source": [
        "# another way to do this is:\n",
        "\n",
        "def genorator():\n",
        "  for i in range(12):\n",
        "    yield i\n",
        "\n",
        "g2= genorator()\n",
        "\n",
        "print(*g2)"
      ],
      "execution_count": 336,
      "outputs": [
        {
          "output_type": "stream",
          "text": [
            "0 1 2 3 4 5 6 7 8 9 10 11\n"
          ],
          "name": "stdout"
        }
      ]
    },
    {
      "cell_type": "markdown",
      "metadata": {
        "id": "E-MOgfseaoPx"
      },
      "source": [
        ""
      ]
    },
    {
      "cell_type": "markdown",
      "metadata": {
        "id": "dHC-EomJapvI"
      },
      "source": [
        "-------------\n"
      ]
    },
    {
      "cell_type": "markdown",
      "metadata": {
        "id": "gEedw7c7apKJ"
      },
      "source": [
        "**DECORATORS**"
      ]
    },
    {
      "cell_type": "code",
      "metadata": {
        "id": "cwkE3IDPaBg3"
      },
      "source": [
        "\n",
        "\n",
        "def mdecorator(function):\n",
        "  \n",
        "  def wrapper(x,y):\n",
        "    if y ==0:\n",
        "      return '0 not allowed'\n",
        "   \n",
        "    return function(x,y)\n",
        "  \n",
        "  return wrapper\n",
        "\n",
        "\n",
        "\n",
        "\n",
        "@mdecorator\n",
        "def divide(x,y):\n",
        "  return x/y"
      ],
      "execution_count": 357,
      "outputs": []
    },
    {
      "cell_type": "code",
      "metadata": {
        "id": "eqwaYAkpa_r9",
        "outputId": "4b9df259-223e-4a26-e0b3-2fd2bf5daf9a",
        "colab": {
          "base_uri": "https://localhost:8080/",
          "height": 35
        }
      },
      "source": [
        "divide(50,0)"
      ],
      "execution_count": 362,
      "outputs": [
        {
          "output_type": "execute_result",
          "data": {
            "application/vnd.google.colaboratory.intrinsic+json": {
              "type": "string"
            },
            "text/plain": [
              "'0 not allowed'"
            ]
          },
          "metadata": {
            "tags": []
          },
          "execution_count": 362
        }
      ]
    },
    {
      "cell_type": "code",
      "metadata": {
        "id": "n8sPvJm2bIpF"
      },
      "source": [
        ""
      ],
      "execution_count": null,
      "outputs": []
    }
  ]
}